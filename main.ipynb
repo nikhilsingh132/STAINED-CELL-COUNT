{
  "nbformat": 4,
  "nbformat_minor": 0,
  "metadata": {
    "colab": {
      "name": "Technex-ml-ware-final-submission.ipynb",
      "provenance": [],
      "collapsed_sections": []
    },
    "kernelspec": {
      "name": "python3",
      "display_name": "Python 3"
    },
    "language_info": {
      "name": "python"
    },
    "accelerator": "GPU"
  },
  "cells": [
    {
      "cell_type": "markdown",
      "source": [
        "### **ML-Ware'22**"
      ],
      "metadata": {
        "id": "NltfKeQ6vxUp"
      }
    },
    {
      "cell_type": "code",
      "source": [
        "# mounting drive\n",
        "\n",
        "from google.colab import drive\n",
        "drive.mount('/content/drive')"
      ],
      "metadata": {
        "colab": {
          "base_uri": "https://localhost:8080/"
        },
        "id": "Pn7ERc1xv3kC",
        "outputId": "bb6f0a4c-bcf9-4daf-869d-5d480f6dd6c4"
      },
      "execution_count": 2,
      "outputs": [
        {
          "output_type": "stream",
          "name": "stdout",
          "text": [
            "Drive already mounted at /content/drive; to attempt to forcibly remount, call drive.mount(\"/content/drive\", force_remount=True).\n"
          ]
        }
      ]
    },
    {
      "cell_type": "code",
      "execution_count": 3,
      "metadata": {
        "id": "UPW2dG3egJ5_"
      },
      "outputs": [],
      "source": [
        "# import the dataset from the kaggle\n",
        "\n",
        "import os\n",
        "os.environ['KAGGLE_CONFIG_DIR']='/content'"
      ]
    },
    {
      "cell_type": "code",
      "source": [
        "!kaggle competitions download -c ml-ware22"
      ],
      "metadata": {
        "colab": {
          "base_uri": "https://localhost:8080/"
        },
        "id": "UZWzH_qIs0Q9",
        "outputId": "6b4ec950-5ab3-47b4-b3da-1aa89bf51ca0"
      },
      "execution_count": 4,
      "outputs": [
        {
          "output_type": "stream",
          "name": "stdout",
          "text": [
            "Warning: Your Kaggle API key is readable by other users on this system! To fix this, you can run 'chmod 600 /content/kaggle.json'\n",
            "Warning: Looks like you're using an outdated API Version, please consider updating (server 1.5.12 / client 1.5.4)\n",
            "sample_submission.csv: Skipping, found more recently modified local copy (use --force to force download)\n",
            "train.h5.zip: Skipping, found more recently modified local copy (use --force to force download)\n",
            "test.h5.zip: Skipping, found more recently modified local copy (use --force to force download)\n"
          ]
        }
      ]
    },
    {
      "cell_type": "code",
      "source": [
        "# unzipping the train dataset file\n",
        "\n",
        "!unzip train.h5.zip"
      ],
      "metadata": {
        "colab": {
          "base_uri": "https://localhost:8080/"
        },
        "id": "uQJDBGcus0Zb",
        "outputId": "72fc5a43-fa4f-41fd-c4b3-8f6abc2c0b4b"
      },
      "execution_count": 6,
      "outputs": [
        {
          "output_type": "stream",
          "name": "stdout",
          "text": [
            "Archive:  train.h5.zip\n",
            "  inflating: train.h5                \n"
          ]
        }
      ]
    },
    {
      "cell_type": "code",
      "source": [
        "import numpy as np\n",
        "import os\n",
        "import csv \n",
        "from skimage import io, transform\n",
        "import matplotlib.pyplot as plt"
      ],
      "metadata": {
        "id": "tHueZqDNs0kt"
      },
      "execution_count": 18,
      "outputs": []
    },
    {
      "cell_type": "code",
      "source": [
        "# reading the data file\n",
        "\n",
        "import h5py\n",
        "ds = h5py.File('train.h5', 'r')\n",
        "x = ds['x']\n",
        "y = ds['y']"
      ],
      "metadata": {
        "id": "4kaAQ0F0s06M"
      },
      "execution_count": 1,
      "outputs": []
    },
    {
      "cell_type": "code",
      "source": [
        "x=x[:3000]\n",
        "y=y[:3000]"
      ],
      "metadata": {
        "id": "A7GCl7Oel5aY"
      },
      "execution_count": 2,
      "outputs": []
    },
    {
      "cell_type": "code",
      "source": [
        "# splitting the data in train, test and validate\n",
        "\n",
        "from sklearn.model_selection import train_test_split\n",
        "\n",
        "x_train, x_test, y_train, y_test = train_test_split(x, y, test_size=0.20, random_state=42)\n",
        "\n",
        "x_train, x_val, y_train, y_val = train_test_split(x_train, y_train, test_size=0.20, random_state=42)\n",
        "\n",
        "x_train = x_train.astype('float32')\n",
        "x_val = x_val.astype('float32')\n",
        "x_test = x_test.astype('float32') "
      ],
      "metadata": {
        "id": "GKk81FCfs081"
      },
      "execution_count": 3,
      "outputs": []
    },
    {
      "cell_type": "code",
      "source": [
        "print(x.shape)\n",
        "print(x_train.shape)\n",
        "print(x_test.shape)\n",
        "print(x_val.shape)"
      ],
      "metadata": {
        "colab": {
          "base_uri": "https://localhost:8080/"
        },
        "id": "ZGHo4y2bs0_V",
        "outputId": "e6420ccb-17cd-410a-d756-8a4e64e07325"
      },
      "execution_count": 4,
      "outputs": [
        {
          "output_type": "stream",
          "name": "stdout",
          "text": [
            "(3000, 299, 299, 3)\n",
            "(1920, 299, 299, 3)\n",
            "(600, 299, 299, 3)\n",
            "(480, 299, 299, 3)\n"
          ]
        }
      ]
    },
    {
      "cell_type": "markdown",
      "source": [
        "### **Proposed Model**"
      ],
      "metadata": {
        "id": "qg58_jJAxfxJ"
      }
    },
    {
      "cell_type": "code",
      "source": [
        "# Import the keras library for adapting the Xception to Regression\n",
        "\n",
        "from keras.models import Sequential\n",
        "from keras.layers import Conv2D, MaxPooling2D, Dropout, Flatten, Dense\n",
        "from keras.utils import np_utils\n",
        "from tensorflow.keras.optimizers import RMSprop"
      ],
      "metadata": {
        "id": "c1Uvkgv0s1ET"
      },
      "execution_count": 16,
      "outputs": []
    },
    {
      "cell_type": "code",
      "source": [
        "# Adapting the Xception architecture to the counting regression problem\n",
        "\n",
        "from keras.applications.xception import Xception\n",
        "from keras.models import Model"
      ],
      "metadata": {
        "id": "x9IIwcy_s1G5"
      },
      "execution_count": 18,
      "outputs": []
    },
    {
      "cell_type": "code",
      "source": [
        "# Loading the base model\n",
        "\n",
        "base_model = Xception(weights='imagenet', include_top=True, input_shape=(299,299, 3))\n",
        "X = base_model.get_layer(index=len(base_model.layers)-2).output\n",
        "print(X)"
      ],
      "metadata": {
        "colab": {
          "base_uri": "https://localhost:8080/"
        },
        "id": "uBPyFRLTu_ft",
        "outputId": "3c552fe8-99ee-4697-ba68-5e0fba381302"
      },
      "execution_count": 22,
      "outputs": [
        {
          "output_type": "stream",
          "name": "stdout",
          "text": [
            "KerasTensor(type_spec=TensorSpec(shape=(None, 2048), dtype=tf.float32, name=None), name='avg_pool/Mean:0', description=\"created by layer 'avg_pool'\")\n"
          ]
        }
      ]
    },
    {
      "cell_type": "code",
      "source": [
        "# for adjusting the dim of the model output\n",
        "\n",
        "X = Dense(1)(X)"
      ],
      "metadata": {
        "id": "FGxKJgohs1Je"
      },
      "execution_count": 23,
      "outputs": []
    },
    {
      "cell_type": "code",
      "source": [
        "model = Model(inputs=base_model.input, outputs=X)\n",
        "model.summary()"
      ],
      "metadata": {
        "colab": {
          "base_uri": "https://localhost:8080/"
        },
        "id": "ZRNd6y86s1MF",
        "outputId": "898fc673-67df-4ae6-8bbb-a1f1014304a6"
      },
      "execution_count": 24,
      "outputs": [
        {
          "output_type": "stream",
          "name": "stdout",
          "text": [
            "Model: \"model\"\n",
            "__________________________________________________________________________________________________\n",
            " Layer (type)                   Output Shape         Param #     Connected to                     \n",
            "==================================================================================================\n",
            " input_3 (InputLayer)           [(None, 299, 299, 3  0           []                               \n",
            "                                )]                                                                \n",
            "                                                                                                  \n",
            " block1_conv1 (Conv2D)          (None, 149, 149, 32  864         ['input_3[0][0]']                \n",
            "                                )                                                                 \n",
            "                                                                                                  \n",
            " block1_conv1_bn (BatchNormaliz  (None, 149, 149, 32  128        ['block1_conv1[0][0]']           \n",
            " ation)                         )                                                                 \n",
            "                                                                                                  \n",
            " block1_conv1_act (Activation)  (None, 149, 149, 32  0           ['block1_conv1_bn[0][0]']        \n",
            "                                )                                                                 \n",
            "                                                                                                  \n",
            " block1_conv2 (Conv2D)          (None, 147, 147, 64  18432       ['block1_conv1_act[0][0]']       \n",
            "                                )                                                                 \n",
            "                                                                                                  \n",
            " block1_conv2_bn (BatchNormaliz  (None, 147, 147, 64  256        ['block1_conv2[0][0]']           \n",
            " ation)                         )                                                                 \n",
            "                                                                                                  \n",
            " block1_conv2_act (Activation)  (None, 147, 147, 64  0           ['block1_conv2_bn[0][0]']        \n",
            "                                )                                                                 \n",
            "                                                                                                  \n",
            " block2_sepconv1 (SeparableConv  (None, 147, 147, 12  8768       ['block1_conv2_act[0][0]']       \n",
            " 2D)                            8)                                                                \n",
            "                                                                                                  \n",
            " block2_sepconv1_bn (BatchNorma  (None, 147, 147, 12  512        ['block2_sepconv1[0][0]']        \n",
            " lization)                      8)                                                                \n",
            "                                                                                                  \n",
            " block2_sepconv2_act (Activatio  (None, 147, 147, 12  0          ['block2_sepconv1_bn[0][0]']     \n",
            " n)                             8)                                                                \n",
            "                                                                                                  \n",
            " block2_sepconv2 (SeparableConv  (None, 147, 147, 12  17536      ['block2_sepconv2_act[0][0]']    \n",
            " 2D)                            8)                                                                \n",
            "                                                                                                  \n",
            " block2_sepconv2_bn (BatchNorma  (None, 147, 147, 12  512        ['block2_sepconv2[0][0]']        \n",
            " lization)                      8)                                                                \n",
            "                                                                                                  \n",
            " conv2d_8 (Conv2D)              (None, 74, 74, 128)  8192        ['block1_conv2_act[0][0]']       \n",
            "                                                                                                  \n",
            " block2_pool (MaxPooling2D)     (None, 74, 74, 128)  0           ['block2_sepconv2_bn[0][0]']     \n",
            "                                                                                                  \n",
            " batch_normalization_8 (BatchNo  (None, 74, 74, 128)  512        ['conv2d_8[0][0]']               \n",
            " rmalization)                                                                                     \n",
            "                                                                                                  \n",
            " add_24 (Add)                   (None, 74, 74, 128)  0           ['block2_pool[0][0]',            \n",
            "                                                                  'batch_normalization_8[0][0]']  \n",
            "                                                                                                  \n",
            " block3_sepconv1_act (Activatio  (None, 74, 74, 128)  0          ['add_24[0][0]']                 \n",
            " n)                                                                                               \n",
            "                                                                                                  \n",
            " block3_sepconv1 (SeparableConv  (None, 74, 74, 256)  33920      ['block3_sepconv1_act[0][0]']    \n",
            " 2D)                                                                                              \n",
            "                                                                                                  \n",
            " block3_sepconv1_bn (BatchNorma  (None, 74, 74, 256)  1024       ['block3_sepconv1[0][0]']        \n",
            " lization)                                                                                        \n",
            "                                                                                                  \n",
            " block3_sepconv2_act (Activatio  (None, 74, 74, 256)  0          ['block3_sepconv1_bn[0][0]']     \n",
            " n)                                                                                               \n",
            "                                                                                                  \n",
            " block3_sepconv2 (SeparableConv  (None, 74, 74, 256)  67840      ['block3_sepconv2_act[0][0]']    \n",
            " 2D)                                                                                              \n",
            "                                                                                                  \n",
            " block3_sepconv2_bn (BatchNorma  (None, 74, 74, 256)  1024       ['block3_sepconv2[0][0]']        \n",
            " lization)                                                                                        \n",
            "                                                                                                  \n",
            " conv2d_9 (Conv2D)              (None, 37, 37, 256)  32768       ['add_24[0][0]']                 \n",
            "                                                                                                  \n",
            " block3_pool (MaxPooling2D)     (None, 37, 37, 256)  0           ['block3_sepconv2_bn[0][0]']     \n",
            "                                                                                                  \n",
            " batch_normalization_9 (BatchNo  (None, 37, 37, 256)  1024       ['conv2d_9[0][0]']               \n",
            " rmalization)                                                                                     \n",
            "                                                                                                  \n",
            " add_25 (Add)                   (None, 37, 37, 256)  0           ['block3_pool[0][0]',            \n",
            "                                                                  'batch_normalization_9[0][0]']  \n",
            "                                                                                                  \n",
            " block4_sepconv1_act (Activatio  (None, 37, 37, 256)  0          ['add_25[0][0]']                 \n",
            " n)                                                                                               \n",
            "                                                                                                  \n",
            " block4_sepconv1 (SeparableConv  (None, 37, 37, 728)  188672     ['block4_sepconv1_act[0][0]']    \n",
            " 2D)                                                                                              \n",
            "                                                                                                  \n",
            " block4_sepconv1_bn (BatchNorma  (None, 37, 37, 728)  2912       ['block4_sepconv1[0][0]']        \n",
            " lization)                                                                                        \n",
            "                                                                                                  \n",
            " block4_sepconv2_act (Activatio  (None, 37, 37, 728)  0          ['block4_sepconv1_bn[0][0]']     \n",
            " n)                                                                                               \n",
            "                                                                                                  \n",
            " block4_sepconv2 (SeparableConv  (None, 37, 37, 728)  536536     ['block4_sepconv2_act[0][0]']    \n",
            " 2D)                                                                                              \n",
            "                                                                                                  \n",
            " block4_sepconv2_bn (BatchNorma  (None, 37, 37, 728)  2912       ['block4_sepconv2[0][0]']        \n",
            " lization)                                                                                        \n",
            "                                                                                                  \n",
            " conv2d_10 (Conv2D)             (None, 19, 19, 728)  186368      ['add_25[0][0]']                 \n",
            "                                                                                                  \n",
            " block4_pool (MaxPooling2D)     (None, 19, 19, 728)  0           ['block4_sepconv2_bn[0][0]']     \n",
            "                                                                                                  \n",
            " batch_normalization_10 (BatchN  (None, 19, 19, 728)  2912       ['conv2d_10[0][0]']              \n",
            " ormalization)                                                                                    \n",
            "                                                                                                  \n",
            " add_26 (Add)                   (None, 19, 19, 728)  0           ['block4_pool[0][0]',            \n",
            "                                                                  'batch_normalization_10[0][0]'] \n",
            "                                                                                                  \n",
            " block5_sepconv1_act (Activatio  (None, 19, 19, 728)  0          ['add_26[0][0]']                 \n",
            " n)                                                                                               \n",
            "                                                                                                  \n",
            " block5_sepconv1 (SeparableConv  (None, 19, 19, 728)  536536     ['block5_sepconv1_act[0][0]']    \n",
            " 2D)                                                                                              \n",
            "                                                                                                  \n",
            " block5_sepconv1_bn (BatchNorma  (None, 19, 19, 728)  2912       ['block5_sepconv1[0][0]']        \n",
            " lization)                                                                                        \n",
            "                                                                                                  \n",
            " block5_sepconv2_act (Activatio  (None, 19, 19, 728)  0          ['block5_sepconv1_bn[0][0]']     \n",
            " n)                                                                                               \n",
            "                                                                                                  \n",
            " block5_sepconv2 (SeparableConv  (None, 19, 19, 728)  536536     ['block5_sepconv2_act[0][0]']    \n",
            " 2D)                                                                                              \n",
            "                                                                                                  \n",
            " block5_sepconv2_bn (BatchNorma  (None, 19, 19, 728)  2912       ['block5_sepconv2[0][0]']        \n",
            " lization)                                                                                        \n",
            "                                                                                                  \n",
            " block5_sepconv3_act (Activatio  (None, 19, 19, 728)  0          ['block5_sepconv2_bn[0][0]']     \n",
            " n)                                                                                               \n",
            "                                                                                                  \n",
            " block5_sepconv3 (SeparableConv  (None, 19, 19, 728)  536536     ['block5_sepconv3_act[0][0]']    \n",
            " 2D)                                                                                              \n",
            "                                                                                                  \n",
            " block5_sepconv3_bn (BatchNorma  (None, 19, 19, 728)  2912       ['block5_sepconv3[0][0]']        \n",
            " lization)                                                                                        \n",
            "                                                                                                  \n",
            " add_27 (Add)                   (None, 19, 19, 728)  0           ['block5_sepconv3_bn[0][0]',     \n",
            "                                                                  'add_26[0][0]']                 \n",
            "                                                                                                  \n",
            " block6_sepconv1_act (Activatio  (None, 19, 19, 728)  0          ['add_27[0][0]']                 \n",
            " n)                                                                                               \n",
            "                                                                                                  \n",
            " block6_sepconv1 (SeparableConv  (None, 19, 19, 728)  536536     ['block6_sepconv1_act[0][0]']    \n",
            " 2D)                                                                                              \n",
            "                                                                                                  \n",
            " block6_sepconv1_bn (BatchNorma  (None, 19, 19, 728)  2912       ['block6_sepconv1[0][0]']        \n",
            " lization)                                                                                        \n",
            "                                                                                                  \n",
            " block6_sepconv2_act (Activatio  (None, 19, 19, 728)  0          ['block6_sepconv1_bn[0][0]']     \n",
            " n)                                                                                               \n",
            "                                                                                                  \n",
            " block6_sepconv2 (SeparableConv  (None, 19, 19, 728)  536536     ['block6_sepconv2_act[0][0]']    \n",
            " 2D)                                                                                              \n",
            "                                                                                                  \n",
            " block6_sepconv2_bn (BatchNorma  (None, 19, 19, 728)  2912       ['block6_sepconv2[0][0]']        \n",
            " lization)                                                                                        \n",
            "                                                                                                  \n",
            " block6_sepconv3_act (Activatio  (None, 19, 19, 728)  0          ['block6_sepconv2_bn[0][0]']     \n",
            " n)                                                                                               \n",
            "                                                                                                  \n",
            " block6_sepconv3 (SeparableConv  (None, 19, 19, 728)  536536     ['block6_sepconv3_act[0][0]']    \n",
            " 2D)                                                                                              \n",
            "                                                                                                  \n",
            " block6_sepconv3_bn (BatchNorma  (None, 19, 19, 728)  2912       ['block6_sepconv3[0][0]']        \n",
            " lization)                                                                                        \n",
            "                                                                                                  \n",
            " add_28 (Add)                   (None, 19, 19, 728)  0           ['block6_sepconv3_bn[0][0]',     \n",
            "                                                                  'add_27[0][0]']                 \n",
            "                                                                                                  \n",
            " block7_sepconv1_act (Activatio  (None, 19, 19, 728)  0          ['add_28[0][0]']                 \n",
            " n)                                                                                               \n",
            "                                                                                                  \n",
            " block7_sepconv1 (SeparableConv  (None, 19, 19, 728)  536536     ['block7_sepconv1_act[0][0]']    \n",
            " 2D)                                                                                              \n",
            "                                                                                                  \n",
            " block7_sepconv1_bn (BatchNorma  (None, 19, 19, 728)  2912       ['block7_sepconv1[0][0]']        \n",
            " lization)                                                                                        \n",
            "                                                                                                  \n",
            " block7_sepconv2_act (Activatio  (None, 19, 19, 728)  0          ['block7_sepconv1_bn[0][0]']     \n",
            " n)                                                                                               \n",
            "                                                                                                  \n",
            " block7_sepconv2 (SeparableConv  (None, 19, 19, 728)  536536     ['block7_sepconv2_act[0][0]']    \n",
            " 2D)                                                                                              \n",
            "                                                                                                  \n",
            " block7_sepconv2_bn (BatchNorma  (None, 19, 19, 728)  2912       ['block7_sepconv2[0][0]']        \n",
            " lization)                                                                                        \n",
            "                                                                                                  \n",
            " block7_sepconv3_act (Activatio  (None, 19, 19, 728)  0          ['block7_sepconv2_bn[0][0]']     \n",
            " n)                                                                                               \n",
            "                                                                                                  \n",
            " block7_sepconv3 (SeparableConv  (None, 19, 19, 728)  536536     ['block7_sepconv3_act[0][0]']    \n",
            " 2D)                                                                                              \n",
            "                                                                                                  \n",
            " block7_sepconv3_bn (BatchNorma  (None, 19, 19, 728)  2912       ['block7_sepconv3[0][0]']        \n",
            " lization)                                                                                        \n",
            "                                                                                                  \n",
            " add_29 (Add)                   (None, 19, 19, 728)  0           ['block7_sepconv3_bn[0][0]',     \n",
            "                                                                  'add_28[0][0]']                 \n",
            "                                                                                                  \n",
            " block8_sepconv1_act (Activatio  (None, 19, 19, 728)  0          ['add_29[0][0]']                 \n",
            " n)                                                                                               \n",
            "                                                                                                  \n",
            " block8_sepconv1 (SeparableConv  (None, 19, 19, 728)  536536     ['block8_sepconv1_act[0][0]']    \n",
            " 2D)                                                                                              \n",
            "                                                                                                  \n",
            " block8_sepconv1_bn (BatchNorma  (None, 19, 19, 728)  2912       ['block8_sepconv1[0][0]']        \n",
            " lization)                                                                                        \n",
            "                                                                                                  \n",
            " block8_sepconv2_act (Activatio  (None, 19, 19, 728)  0          ['block8_sepconv1_bn[0][0]']     \n",
            " n)                                                                                               \n",
            "                                                                                                  \n",
            " block8_sepconv2 (SeparableConv  (None, 19, 19, 728)  536536     ['block8_sepconv2_act[0][0]']    \n",
            " 2D)                                                                                              \n",
            "                                                                                                  \n",
            " block8_sepconv2_bn (BatchNorma  (None, 19, 19, 728)  2912       ['block8_sepconv2[0][0]']        \n",
            " lization)                                                                                        \n",
            "                                                                                                  \n",
            " block8_sepconv3_act (Activatio  (None, 19, 19, 728)  0          ['block8_sepconv2_bn[0][0]']     \n",
            " n)                                                                                               \n",
            "                                                                                                  \n",
            " block8_sepconv3 (SeparableConv  (None, 19, 19, 728)  536536     ['block8_sepconv3_act[0][0]']    \n",
            " 2D)                                                                                              \n",
            "                                                                                                  \n",
            " block8_sepconv3_bn (BatchNorma  (None, 19, 19, 728)  2912       ['block8_sepconv3[0][0]']        \n",
            " lization)                                                                                        \n",
            "                                                                                                  \n",
            " add_30 (Add)                   (None, 19, 19, 728)  0           ['block8_sepconv3_bn[0][0]',     \n",
            "                                                                  'add_29[0][0]']                 \n",
            "                                                                                                  \n",
            " block9_sepconv1_act (Activatio  (None, 19, 19, 728)  0          ['add_30[0][0]']                 \n",
            " n)                                                                                               \n",
            "                                                                                                  \n",
            " block9_sepconv1 (SeparableConv  (None, 19, 19, 728)  536536     ['block9_sepconv1_act[0][0]']    \n",
            " 2D)                                                                                              \n",
            "                                                                                                  \n",
            " block9_sepconv1_bn (BatchNorma  (None, 19, 19, 728)  2912       ['block9_sepconv1[0][0]']        \n",
            " lization)                                                                                        \n",
            "                                                                                                  \n",
            " block9_sepconv2_act (Activatio  (None, 19, 19, 728)  0          ['block9_sepconv1_bn[0][0]']     \n",
            " n)                                                                                               \n",
            "                                                                                                  \n",
            " block9_sepconv2 (SeparableConv  (None, 19, 19, 728)  536536     ['block9_sepconv2_act[0][0]']    \n",
            " 2D)                                                                                              \n",
            "                                                                                                  \n",
            " block9_sepconv2_bn (BatchNorma  (None, 19, 19, 728)  2912       ['block9_sepconv2[0][0]']        \n",
            " lization)                                                                                        \n",
            "                                                                                                  \n",
            " block9_sepconv3_act (Activatio  (None, 19, 19, 728)  0          ['block9_sepconv2_bn[0][0]']     \n",
            " n)                                                                                               \n",
            "                                                                                                  \n",
            " block9_sepconv3 (SeparableConv  (None, 19, 19, 728)  536536     ['block9_sepconv3_act[0][0]']    \n",
            " 2D)                                                                                              \n",
            "                                                                                                  \n",
            " block9_sepconv3_bn (BatchNorma  (None, 19, 19, 728)  2912       ['block9_sepconv3[0][0]']        \n",
            " lization)                                                                                        \n",
            "                                                                                                  \n",
            " add_31 (Add)                   (None, 19, 19, 728)  0           ['block9_sepconv3_bn[0][0]',     \n",
            "                                                                  'add_30[0][0]']                 \n",
            "                                                                                                  \n",
            " block10_sepconv1_act (Activati  (None, 19, 19, 728)  0          ['add_31[0][0]']                 \n",
            " on)                                                                                              \n",
            "                                                                                                  \n",
            " block10_sepconv1 (SeparableCon  (None, 19, 19, 728)  536536     ['block10_sepconv1_act[0][0]']   \n",
            " v2D)                                                                                             \n",
            "                                                                                                  \n",
            " block10_sepconv1_bn (BatchNorm  (None, 19, 19, 728)  2912       ['block10_sepconv1[0][0]']       \n",
            " alization)                                                                                       \n",
            "                                                                                                  \n",
            " block10_sepconv2_act (Activati  (None, 19, 19, 728)  0          ['block10_sepconv1_bn[0][0]']    \n",
            " on)                                                                                              \n",
            "                                                                                                  \n",
            " block10_sepconv2 (SeparableCon  (None, 19, 19, 728)  536536     ['block10_sepconv2_act[0][0]']   \n",
            " v2D)                                                                                             \n",
            "                                                                                                  \n",
            " block10_sepconv2_bn (BatchNorm  (None, 19, 19, 728)  2912       ['block10_sepconv2[0][0]']       \n",
            " alization)                                                                                       \n",
            "                                                                                                  \n",
            " block10_sepconv3_act (Activati  (None, 19, 19, 728)  0          ['block10_sepconv2_bn[0][0]']    \n",
            " on)                                                                                              \n",
            "                                                                                                  \n",
            " block10_sepconv3 (SeparableCon  (None, 19, 19, 728)  536536     ['block10_sepconv3_act[0][0]']   \n",
            " v2D)                                                                                             \n",
            "                                                                                                  \n",
            " block10_sepconv3_bn (BatchNorm  (None, 19, 19, 728)  2912       ['block10_sepconv3[0][0]']       \n",
            " alization)                                                                                       \n",
            "                                                                                                  \n",
            " add_32 (Add)                   (None, 19, 19, 728)  0           ['block10_sepconv3_bn[0][0]',    \n",
            "                                                                  'add_31[0][0]']                 \n",
            "                                                                                                  \n",
            " block11_sepconv1_act (Activati  (None, 19, 19, 728)  0          ['add_32[0][0]']                 \n",
            " on)                                                                                              \n",
            "                                                                                                  \n",
            " block11_sepconv1 (SeparableCon  (None, 19, 19, 728)  536536     ['block11_sepconv1_act[0][0]']   \n",
            " v2D)                                                                                             \n",
            "                                                                                                  \n",
            " block11_sepconv1_bn (BatchNorm  (None, 19, 19, 728)  2912       ['block11_sepconv1[0][0]']       \n",
            " alization)                                                                                       \n",
            "                                                                                                  \n",
            " block11_sepconv2_act (Activati  (None, 19, 19, 728)  0          ['block11_sepconv1_bn[0][0]']    \n",
            " on)                                                                                              \n",
            "                                                                                                  \n",
            " block11_sepconv2 (SeparableCon  (None, 19, 19, 728)  536536     ['block11_sepconv2_act[0][0]']   \n",
            " v2D)                                                                                             \n",
            "                                                                                                  \n",
            " block11_sepconv2_bn (BatchNorm  (None, 19, 19, 728)  2912       ['block11_sepconv2[0][0]']       \n",
            " alization)                                                                                       \n",
            "                                                                                                  \n",
            " block11_sepconv3_act (Activati  (None, 19, 19, 728)  0          ['block11_sepconv2_bn[0][0]']    \n",
            " on)                                                                                              \n",
            "                                                                                                  \n",
            " block11_sepconv3 (SeparableCon  (None, 19, 19, 728)  536536     ['block11_sepconv3_act[0][0]']   \n",
            " v2D)                                                                                             \n",
            "                                                                                                  \n",
            " block11_sepconv3_bn (BatchNorm  (None, 19, 19, 728)  2912       ['block11_sepconv3[0][0]']       \n",
            " alization)                                                                                       \n",
            "                                                                                                  \n",
            " add_33 (Add)                   (None, 19, 19, 728)  0           ['block11_sepconv3_bn[0][0]',    \n",
            "                                                                  'add_32[0][0]']                 \n",
            "                                                                                                  \n",
            " block12_sepconv1_act (Activati  (None, 19, 19, 728)  0          ['add_33[0][0]']                 \n",
            " on)                                                                                              \n",
            "                                                                                                  \n",
            " block12_sepconv1 (SeparableCon  (None, 19, 19, 728)  536536     ['block12_sepconv1_act[0][0]']   \n",
            " v2D)                                                                                             \n",
            "                                                                                                  \n",
            " block12_sepconv1_bn (BatchNorm  (None, 19, 19, 728)  2912       ['block12_sepconv1[0][0]']       \n",
            " alization)                                                                                       \n",
            "                                                                                                  \n",
            " block12_sepconv2_act (Activati  (None, 19, 19, 728)  0          ['block12_sepconv1_bn[0][0]']    \n",
            " on)                                                                                              \n",
            "                                                                                                  \n",
            " block12_sepconv2 (SeparableCon  (None, 19, 19, 728)  536536     ['block12_sepconv2_act[0][0]']   \n",
            " v2D)                                                                                             \n",
            "                                                                                                  \n",
            " block12_sepconv2_bn (BatchNorm  (None, 19, 19, 728)  2912       ['block12_sepconv2[0][0]']       \n",
            " alization)                                                                                       \n",
            "                                                                                                  \n",
            " block12_sepconv3_act (Activati  (None, 19, 19, 728)  0          ['block12_sepconv2_bn[0][0]']    \n",
            " on)                                                                                              \n",
            "                                                                                                  \n",
            " block12_sepconv3 (SeparableCon  (None, 19, 19, 728)  536536     ['block12_sepconv3_act[0][0]']   \n",
            " v2D)                                                                                             \n",
            "                                                                                                  \n",
            " block12_sepconv3_bn (BatchNorm  (None, 19, 19, 728)  2912       ['block12_sepconv3[0][0]']       \n",
            " alization)                                                                                       \n",
            "                                                                                                  \n",
            " add_34 (Add)                   (None, 19, 19, 728)  0           ['block12_sepconv3_bn[0][0]',    \n",
            "                                                                  'add_33[0][0]']                 \n",
            "                                                                                                  \n",
            " block13_sepconv1_act (Activati  (None, 19, 19, 728)  0          ['add_34[0][0]']                 \n",
            " on)                                                                                              \n",
            "                                                                                                  \n",
            " block13_sepconv1 (SeparableCon  (None, 19, 19, 728)  536536     ['block13_sepconv1_act[0][0]']   \n",
            " v2D)                                                                                             \n",
            "                                                                                                  \n",
            " block13_sepconv1_bn (BatchNorm  (None, 19, 19, 728)  2912       ['block13_sepconv1[0][0]']       \n",
            " alization)                                                                                       \n",
            "                                                                                                  \n",
            " block13_sepconv2_act (Activati  (None, 19, 19, 728)  0          ['block13_sepconv1_bn[0][0]']    \n",
            " on)                                                                                              \n",
            "                                                                                                  \n",
            " block13_sepconv2 (SeparableCon  (None, 19, 19, 1024  752024     ['block13_sepconv2_act[0][0]']   \n",
            " v2D)                           )                                                                 \n",
            "                                                                                                  \n",
            " block13_sepconv2_bn (BatchNorm  (None, 19, 19, 1024  4096       ['block13_sepconv2[0][0]']       \n",
            " alization)                     )                                                                 \n",
            "                                                                                                  \n",
            " conv2d_11 (Conv2D)             (None, 10, 10, 1024  745472      ['add_34[0][0]']                 \n",
            "                                )                                                                 \n",
            "                                                                                                  \n",
            " block13_pool (MaxPooling2D)    (None, 10, 10, 1024  0           ['block13_sepconv2_bn[0][0]']    \n",
            "                                )                                                                 \n",
            "                                                                                                  \n",
            " batch_normalization_11 (BatchN  (None, 10, 10, 1024  4096       ['conv2d_11[0][0]']              \n",
            " ormalization)                  )                                                                 \n",
            "                                                                                                  \n",
            " add_35 (Add)                   (None, 10, 10, 1024  0           ['block13_pool[0][0]',           \n",
            "                                )                                 'batch_normalization_11[0][0]'] \n",
            "                                                                                                  \n",
            " block14_sepconv1 (SeparableCon  (None, 10, 10, 1536  1582080    ['add_35[0][0]']                 \n",
            " v2D)                           )                                                                 \n",
            "                                                                                                  \n",
            " block14_sepconv1_bn (BatchNorm  (None, 10, 10, 1536  6144       ['block14_sepconv1[0][0]']       \n",
            " alization)                     )                                                                 \n",
            "                                                                                                  \n",
            " block14_sepconv1_act (Activati  (None, 10, 10, 1536  0          ['block14_sepconv1_bn[0][0]']    \n",
            " on)                            )                                                                 \n",
            "                                                                                                  \n",
            " block14_sepconv2 (SeparableCon  (None, 10, 10, 2048  3159552    ['block14_sepconv1_act[0][0]']   \n",
            " v2D)                           )                                                                 \n",
            "                                                                                                  \n",
            " block14_sepconv2_bn (BatchNorm  (None, 10, 10, 2048  8192       ['block14_sepconv2[0][0]']       \n",
            " alization)                     )                                                                 \n",
            "                                                                                                  \n",
            " block14_sepconv2_act (Activati  (None, 10, 10, 2048  0          ['block14_sepconv2_bn[0][0]']    \n",
            " on)                            )                                                                 \n",
            "                                                                                                  \n",
            " avg_pool (GlobalAveragePooling  (None, 2048)        0           ['block14_sepconv2_act[0][0]']   \n",
            " 2D)                                                                                              \n",
            "                                                                                                  \n",
            " dense_1 (Dense)                (None, 1)            2049        ['avg_pool[0][0]']               \n",
            "                                                                                                  \n",
            "==================================================================================================\n",
            "Total params: 20,863,529\n",
            "Trainable params: 20,809,001\n",
            "Non-trainable params: 54,528\n",
            "__________________________________________________________________________________________________\n"
          ]
        }
      ]
    },
    {
      "cell_type": "code",
      "source": [
        "# compiling the model\n",
        "\n",
        "opt = RMSprop(learning_rate=0.001)\n",
        "model.compile(loss='mean_squared_error', optimizer=opt, metrics=['mse'])"
      ],
      "metadata": {
        "id": "OY5xX86Gv5Ju"
      },
      "execution_count": 25,
      "outputs": []
    },
    {
      "cell_type": "code",
      "source": [
        "# fitting the model on training set with epochs = 50 and lr = 0.001\n",
        "\n",
        "network_history = model.fit(x_train, y_train, batch_size=16, epochs=50, verbose=1, validation_data= (x_val, y_val))"
      ],
      "metadata": {
        "colab": {
          "base_uri": "https://localhost:8080/"
        },
        "id": "-haMFEUHv5MM",
        "outputId": "f3c75c23-f95e-4703-eb2e-5211e10077da"
      },
      "execution_count": 26,
      "outputs": [
        {
          "output_type": "stream",
          "name": "stdout",
          "text": [
            "Epoch 1/50\n",
            "120/120 [==============================] - 92s 580ms/step - loss: 15.3097 - mse: 15.3097 - val_loss: 17987.7070 - val_mse: 17987.7070\n",
            "Epoch 2/50\n",
            "120/120 [==============================] - 71s 588ms/step - loss: 8.9866 - mse: 8.9866 - val_loss: 1317.0647 - val_mse: 1317.0647\n",
            "Epoch 3/50\n",
            "120/120 [==============================] - 70s 587ms/step - loss: 6.6329 - mse: 6.6329 - val_loss: 1222.2964 - val_mse: 1222.2964\n",
            "Epoch 4/50\n",
            "120/120 [==============================] - 72s 604ms/step - loss: 6.8938 - mse: 6.8938 - val_loss: 4.6597 - val_mse: 4.6597\n",
            "Epoch 5/50\n",
            "120/120 [==============================] - 73s 608ms/step - loss: 5.7144 - mse: 5.7144 - val_loss: 27.0110 - val_mse: 27.0110\n",
            "Epoch 6/50\n",
            "120/120 [==============================] - 73s 613ms/step - loss: 5.5022 - mse: 5.5022 - val_loss: 15.1326 - val_mse: 15.1326\n",
            "Epoch 7/50\n",
            "120/120 [==============================] - 72s 600ms/step - loss: 3.9579 - mse: 3.9579 - val_loss: 142.7227 - val_mse: 142.7227\n",
            "Epoch 8/50\n",
            "120/120 [==============================] - 72s 601ms/step - loss: 3.8931 - mse: 3.8931 - val_loss: 4.7889 - val_mse: 4.7889\n",
            "Epoch 9/50\n",
            "120/120 [==============================] - 74s 614ms/step - loss: 2.6082 - mse: 2.6082 - val_loss: 64.6335 - val_mse: 64.6335\n",
            "Epoch 10/50\n",
            "120/120 [==============================] - 74s 614ms/step - loss: 2.5005 - mse: 2.5005 - val_loss: 7.5494 - val_mse: 7.5494\n",
            "Epoch 11/50\n",
            "120/120 [==============================] - 72s 601ms/step - loss: 2.3525 - mse: 2.3525 - val_loss: 2.8103 - val_mse: 2.8103\n",
            "Epoch 12/50\n",
            "120/120 [==============================] - 72s 598ms/step - loss: 2.3103 - mse: 2.3103 - val_loss: 4.5080 - val_mse: 4.5080\n",
            "Epoch 13/50\n",
            "120/120 [==============================] - 74s 613ms/step - loss: 1.8577 - mse: 1.8577 - val_loss: 2.7418 - val_mse: 2.7418\n",
            "Epoch 14/50\n",
            "120/120 [==============================] - 73s 611ms/step - loss: 1.6245 - mse: 1.6245 - val_loss: 23.0536 - val_mse: 23.0536\n",
            "Epoch 15/50\n",
            "120/120 [==============================] - 74s 614ms/step - loss: 1.5742 - mse: 1.5742 - val_loss: 2.9220 - val_mse: 2.9220\n",
            "Epoch 16/50\n",
            "120/120 [==============================] - 72s 602ms/step - loss: 1.2392 - mse: 1.2392 - val_loss: 4.8686 - val_mse: 4.8686\n",
            "Epoch 17/50\n",
            "120/120 [==============================] - 74s 616ms/step - loss: 1.3099 - mse: 1.3099 - val_loss: 5.4025 - val_mse: 5.4025\n",
            "Epoch 18/50\n",
            "120/120 [==============================] - 73s 612ms/step - loss: 1.2646 - mse: 1.2646 - val_loss: 3.7588 - val_mse: 3.7588\n",
            "Epoch 19/50\n",
            "120/120 [==============================] - 72s 597ms/step - loss: 1.2013 - mse: 1.2013 - val_loss: 8.8433 - val_mse: 8.8433\n",
            "Epoch 20/50\n",
            "120/120 [==============================] - 73s 609ms/step - loss: 0.9938 - mse: 0.9938 - val_loss: 2.7909 - val_mse: 2.7909\n",
            "Epoch 21/50\n",
            "120/120 [==============================] - 72s 598ms/step - loss: 1.3209 - mse: 1.3209 - val_loss: 3.3069 - val_mse: 3.3069\n",
            "Epoch 22/50\n",
            "120/120 [==============================] - 72s 598ms/step - loss: 0.9509 - mse: 0.9509 - val_loss: 3.4634 - val_mse: 3.4634\n",
            "Epoch 23/50\n",
            "120/120 [==============================] - 73s 610ms/step - loss: 0.8612 - mse: 0.8612 - val_loss: 6.4493 - val_mse: 6.4493\n",
            "Epoch 24/50\n",
            "120/120 [==============================] - 72s 602ms/step - loss: 0.8390 - mse: 0.8390 - val_loss: 6.5465 - val_mse: 6.5465\n",
            "Epoch 25/50\n",
            "120/120 [==============================] - 74s 616ms/step - loss: 0.7100 - mse: 0.7100 - val_loss: 20.6501 - val_mse: 20.6501\n",
            "Epoch 26/50\n",
            "120/120 [==============================] - 72s 597ms/step - loss: 0.8671 - mse: 0.8671 - val_loss: 30.0027 - val_mse: 30.0027\n",
            "Epoch 27/50\n",
            "120/120 [==============================] - 72s 598ms/step - loss: 0.6759 - mse: 0.6759 - val_loss: 26.3233 - val_mse: 26.3233\n",
            "Epoch 28/50\n",
            "120/120 [==============================] - 73s 611ms/step - loss: 0.7690 - mse: 0.7690 - val_loss: 8.6289 - val_mse: 8.6289\n",
            "Epoch 29/50\n",
            "120/120 [==============================] - 73s 609ms/step - loss: 0.6174 - mse: 0.6174 - val_loss: 39.8000 - val_mse: 39.8000\n",
            "Epoch 30/50\n",
            "120/120 [==============================] - 73s 611ms/step - loss: 0.6128 - mse: 0.6128 - val_loss: 3.4968 - val_mse: 3.4968\n",
            "Epoch 31/50\n",
            "120/120 [==============================] - 72s 599ms/step - loss: 0.7384 - mse: 0.7384 - val_loss: 3.7984 - val_mse: 3.7984\n",
            "Epoch 32/50\n",
            "120/120 [==============================] - 73s 609ms/step - loss: 0.5313 - mse: 0.5313 - val_loss: 48.9994 - val_mse: 48.9994\n",
            "Epoch 33/50\n",
            "120/120 [==============================] - 73s 609ms/step - loss: 0.8170 - mse: 0.8170 - val_loss: 2.8386 - val_mse: 2.8386\n",
            "Epoch 34/50\n",
            "120/120 [==============================] - 71s 595ms/step - loss: 0.5489 - mse: 0.5489 - val_loss: 3.9269 - val_mse: 3.9269\n",
            "Epoch 35/50\n",
            "120/120 [==============================] - 72s 597ms/step - loss: 0.5887 - mse: 0.5887 - val_loss: 3.6500 - val_mse: 3.6500\n",
            "Epoch 36/50\n",
            "120/120 [==============================] - 74s 614ms/step - loss: 0.7766 - mse: 0.7766 - val_loss: 5.9397 - val_mse: 5.9397\n",
            "Epoch 37/50\n",
            "120/120 [==============================] - 72s 603ms/step - loss: 0.6313 - mse: 0.6313 - val_loss: 5.1858 - val_mse: 5.1858\n",
            "Epoch 38/50\n",
            "120/120 [==============================] - 74s 613ms/step - loss: 0.5190 - mse: 0.5190 - val_loss: 14.3914 - val_mse: 14.3914\n",
            "Epoch 39/50\n",
            "120/120 [==============================] - 73s 610ms/step - loss: 0.5187 - mse: 0.5187 - val_loss: 3.2167 - val_mse: 3.2167\n",
            "Epoch 40/50\n",
            "120/120 [==============================] - 73s 610ms/step - loss: 0.4736 - mse: 0.4736 - val_loss: 3.9047 - val_mse: 3.9047\n",
            "Epoch 41/50\n",
            "120/120 [==============================] - 73s 609ms/step - loss: 0.4632 - mse: 0.4632 - val_loss: 2.8688 - val_mse: 2.8688\n",
            "Epoch 42/50\n",
            "120/120 [==============================] - 73s 609ms/step - loss: 0.5738 - mse: 0.5738 - val_loss: 3.2722 - val_mse: 3.2722\n",
            "Epoch 43/50\n",
            "120/120 [==============================] - 71s 595ms/step - loss: 0.4486 - mse: 0.4486 - val_loss: 4.4098 - val_mse: 4.4098\n",
            "Epoch 44/50\n",
            "120/120 [==============================] - 73s 608ms/step - loss: 0.4307 - mse: 0.4307 - val_loss: 2.8967 - val_mse: 2.8967\n",
            "Epoch 45/50\n",
            "120/120 [==============================] - 72s 599ms/step - loss: 0.4424 - mse: 0.4424 - val_loss: 3.3935 - val_mse: 3.3935\n",
            "Epoch 46/50\n",
            "120/120 [==============================] - 73s 610ms/step - loss: 0.3754 - mse: 0.3754 - val_loss: 3.0817 - val_mse: 3.0817\n",
            "Epoch 47/50\n",
            "120/120 [==============================] - 73s 609ms/step - loss: 0.3511 - mse: 0.3511 - val_loss: 10.3784 - val_mse: 10.3784\n",
            "Epoch 48/50\n",
            "120/120 [==============================] - 71s 594ms/step - loss: 0.4112 - mse: 0.4112 - val_loss: 3.1895 - val_mse: 3.1895\n",
            "Epoch 49/50\n",
            "120/120 [==============================] - 73s 611ms/step - loss: 0.5898 - mse: 0.5898 - val_loss: 3.7781 - val_mse: 3.7781\n",
            "Epoch 50/50\n",
            "120/120 [==============================] - 72s 599ms/step - loss: 0.3467 - mse: 0.3467 - val_loss: 3.4590 - val_mse: 3.4590\n"
          ]
        }
      ]
    },
    {
      "cell_type": "code",
      "source": [
        "h=network_history.history\n",
        "plt.plot(h['loss'])\n",
        "plt.title(\"Loss v/s epochs\")\n",
        "plt.show()"
      ],
      "metadata": {
        "colab": {
          "base_uri": "https://localhost:8080/",
          "height": 281
        },
        "id": "eDOvEnnrzl1W",
        "outputId": "337bcc6f-3a6f-4f38-bdcf-7fd8ba6bce3c"
      },
      "execution_count": 29,
      "outputs": [
        {
          "output_type": "display_data",
          "data": {
            "image/png": "[encoded data removed]",
            "text/plain": [
              "<Figure size 432x288 with 1 Axes>"
            ]
          },
          "metadata": {
            "needs_background": "light"
          }
        }
      ]
    },
    {
      "cell_type": "code",
      "source": [
        "# saving the trained model on drive\n",
        "\n",
        "model.save('/content/drive/MyDrive/ML-Ware/MSD_model.h5')\n",
        "model.save_weights('/content/drive/MyDrive/ML-Ware/MSD_model_weights.h5')"
      ],
      "metadata": {
        "id": "MsxQdI1kv5PA"
      },
      "execution_count": 30,
      "outputs": []
    },
    {
      "cell_type": "code",
      "source": [
        "# Loading the trained model\n",
        "\n",
        "from keras.models import load_model\n",
        "model = load_model('/content/drive/MyDrive/ML-Ware/MSD_model.h5')"
      ],
      "metadata": {
        "id": "JN2SwUVkv5Rz"
      },
      "execution_count": 5,
      "outputs": []
    },
    {
      "cell_type": "markdown",
      "source": [
        "Predict the trained Model"
      ],
      "metadata": {
        "id": "2Rs4Sl48zycR"
      }
    },
    {
      "cell_type": "code",
      "source": [
        "# making prediction on dataset\n",
        "\n",
        "predictTrain = model.predict(x_train, verbose=1)\n",
        "predictTrain = predictTrain.reshape(predictTrain.shape[0])"
      ],
      "metadata": {
        "colab": {
          "base_uri": "https://localhost:8080/"
        },
        "id": "_2r0MX4iv5ZY",
        "outputId": "1959be52-f3cc-43a9-c67a-b9499edb7d5f"
      },
      "execution_count": 6,
      "outputs": [
        {
          "output_type": "stream",
          "name": "stdout",
          "text": [
            "60/60 [==============================] - 23s 219ms/step\n"
          ]
        }
      ]
    },
    {
      "cell_type": "code",
      "source": [
        "predictTest = model.predict(x_test, verbose=1)\n",
        "predictTest = predictTest.reshape(predictTest.shape[0])"
      ],
      "metadata": {
        "colab": {
          "base_uri": "https://localhost:8080/"
        },
        "id": "vee9WJwK0j3B",
        "outputId": "6ee067af-d76d-4d42-a63b-094f43ace2be"
      },
      "execution_count": 7,
      "outputs": [
        {
          "output_type": "stream",
          "name": "stdout",
          "text": [
            "19/19 [==============================] - 6s 280ms/step\n"
          ]
        }
      ]
    },
    {
      "cell_type": "code",
      "source": [
        "predictVal = model.predict(x_val, verbose=1)\n",
        "predictVal = predictVal.reshape(predictVal.shape[0])"
      ],
      "metadata": {
        "colab": {
          "base_uri": "https://localhost:8080/"
        },
        "id": "KDY5PPIBv5cB",
        "outputId": "707e944e-cc57-40a2-a6a2-16c45411ea58"
      },
      "execution_count": 8,
      "outputs": [
        {
          "output_type": "stream",
          "name": "stdout",
          "text": [
            "15/15 [==============================] - 3s 226ms/step\n"
          ]
        }
      ]
    },
    {
      "cell_type": "markdown",
      "source": [
        "## Evaluation"
      ],
      "metadata": {
        "id": "7Aue7_jZ2DxD"
      }
    },
    {
      "cell_type": "code",
      "source": [
        "# on train set\n",
        "\n",
        "from sklearn.metrics import r2_score, median_absolute_error, mean_squared_error\n",
        "\n",
        "y_true = y_train\n",
        "predict = predictTrain\n",
        "\n",
        "r2 = r2_score(y_true, predict)\n",
        "mae = median_absolute_error(y_true, predict)\n",
        "mse = mean_squared_error(y_true, predict)\n",
        "print(\"MSE \\t MAE \\t R2\")\n",
        "print(mse, \"\\t\", mae,\"\\t\", r2)"
      ],
      "metadata": {
        "id": "CltJd0_GNMs8",
        "colab": {
          "base_uri": "https://localhost:8080/"
        },
        "outputId": "90ecb690-19a3-4e71-8fff-f095f51b8fc5"
      },
      "execution_count": 9,
      "outputs": [
        {
          "output_type": "stream",
          "name": "stdout",
          "text": [
            "MSE \t MAE \t R2\n",
            "0.6993850923635901 \t 0.26515257358551025 \t 0.9687206585005405\n"
          ]
        }
      ]
    },
    {
      "cell_type": "code",
      "source": [
        "# on validate set\n",
        "\n",
        "y_true = y_val\n",
        "predict = predictVal\n",
        "\n",
        "r2 = r2_score(y_true, predict)\n",
        "mae = median_absolute_error(y_true, predict)\n",
        "mse = mean_squared_error(y_true, predict)\n",
        "print(\"MSE \\t MAE \\t R2\")\n",
        "print(mse, \"\\t\", mae,\"\\t\", r2)"
      ],
      "metadata": {
        "colab": {
          "base_uri": "https://localhost:8080/"
        },
        "id": "YKGNSc5L1Hw0",
        "outputId": "4f72d097-29f7-4b9e-838d-52570abbf42e"
      },
      "execution_count": 10,
      "outputs": [
        {
          "output_type": "stream",
          "name": "stdout",
          "text": [
            "MSE \t MAE \t R2\n",
            "3.4589603770166755 \t 0.38637250661849976 \t 0.8767568253772065\n"
          ]
        }
      ]
    },
    {
      "cell_type": "code",
      "source": [
        "# on test set\n",
        "\n",
        "y_true = y_test\n",
        "predict = predictTest\n",
        "\n",
        "r2 = r2_score(y_true, predict)\n",
        "mae = median_absolute_error(y_true, predict)\n",
        "mse = mean_squared_error(y_true, predict)\n",
        "print(\"MSE \\t MAE \\t R2\")\n",
        "print(mse, \"\\t\", mae,\"\\t\", r2)"
      ],
      "metadata": {
        "id": "lwHhsJfkv5kd",
        "colab": {
          "base_uri": "https://localhost:8080/"
        },
        "outputId": "5ccbc557-ea49-4c96-f9a7-bed7e10b194f"
      },
      "execution_count": 11,
      "outputs": [
        {
          "output_type": "stream",
          "name": "stdout",
          "text": [
            "MSE \t MAE \t R2\n",
            "1.6950027763574502 \t 0.3349609375 \t 0.9100099930496501\n"
          ]
        }
      ]
    },
    {
      "cell_type": "code",
      "source": [
        "# plotting the Coefficient of Determination\n",
        "import matplotlib.pyplot as plt\n",
        "\n",
        "N = y_test.shape\n",
        "x = predictTest\n",
        "y = y_test\n",
        "colors = y_test\n",
        "\n",
        "area = 100\n",
        "\n",
        "plt.xlabel(\"\\nPredicted\\n\", fontsize=12)\n",
        "plt.ylabel(\"\\nTure Value\\n\", fontsize=12)\n",
        "\n",
        "marker_size=15\n",
        "plt.scatter(x, y, s=area, c=colors, cmap='cool', alpha=0.5)\n",
        "\n",
        "cbar= plt.colorbar()\n",
        "cbar.set_label(\"c\\Count of stained cells\", labelpad=+1)\n",
        "\n",
        "plt.show()"
      ],
      "metadata": {
        "colab": {
          "base_uri": "https://localhost:8080/",
          "height": 316
        },
        "id": "Vp0K0XJav5hz",
        "outputId": "fd2201b5-fff8-422e-ac14-cf63f886b862"
      },
      "execution_count": 13,
      "outputs": [
        {
          "output_type": "display_data",
          "data": {
            "image/png": "[encoded data removed]",
            "text/plain": [
              "<Figure size 432x288 with 2 Axes>"
            ]
          },
          "metadata": {
            "needs_background": "light"
          }
        }
      ]
    },
    {
      "cell_type": "markdown",
      "source": [
        "## **Predict the Test sample**"
      ],
      "metadata": {
        "id": "fSUEmwnB2z7c"
      }
    },
    {
      "cell_type": "code",
      "source": [
        "# unzipping the test dataset\n",
        "\n",
        "!unzip test.h5.zip"
      ],
      "metadata": {
        "colab": {
          "base_uri": "https://localhost:8080/"
        },
        "id": "Wv0sb4END9cs",
        "outputId": "0b4eea9c-c422-431e-a152-30342d3c0f81"
      },
      "execution_count": 14,
      "outputs": [
        {
          "output_type": "stream",
          "name": "stdout",
          "text": [
            "Archive:  test.h5.zip\n",
            "  inflating: test.h5                 \n"
          ]
        }
      ]
    },
    {
      "cell_type": "code",
      "source": [
        "# reading the test dataset\n",
        "\n",
        "import h5py\n",
        "import pandas as pd\n",
        "ds_test = h5py.File('test.h5', 'r')\n",
        "test_x = ds_test['x']"
      ],
      "metadata": {
        "id": "6TAZjym_v5nR"
      },
      "execution_count": 15,
      "outputs": []
    },
    {
      "cell_type": "code",
      "source": [
        "predictTest = model.predict(test_x, verbose=1)\n",
        "predictTest = predictTest.reshape(predictTest.shape[0])"
      ],
      "metadata": {
        "id": "o-yva6P7v5p3",
        "colab": {
          "base_uri": "https://localhost:8080/"
        },
        "outputId": "a6502c2e-5efc-45b7-f7e0-e267b9dd038c"
      },
      "execution_count": 16,
      "outputs": [
        {
          "output_type": "stream",
          "name": "stdout",
          "text": [
            "WARNING:tensorflow:Keras is training/fitting/evaluating on array-like data. Keras may not be optimized for this format, so if your input data format is supported by TensorFlow I/O (https://github.com/tensorflow/io) we recommend using that to load a Dataset instead.\n",
            "207/207 [==============================] - 48s 227ms/step\n"
          ]
        }
      ]
    },
    {
      "cell_type": "code",
      "source": [
        "res = np.round(predictTest)\n",
        "\n",
        "# ignoring the negative predict values \n",
        "\n",
        "final = [];\n",
        "for i in range(len(res)):\n",
        "  res[i]= max(res[i] , 0)"
      ],
      "metadata": {
        "id": "hXx3f8bXv5su"
      },
      "execution_count": 19,
      "outputs": []
    },
    {
      "cell_type": "code",
      "source": [
        "# Making the Prediction dataframe\n",
        "\n",
        "for i in range(len(res)):\n",
        "  final.append([i , res[i]])\n",
        "df = pd.DataFrame(final, columns=[\"id\", \"label\"])\n",
        "df.to_csv('/content/drive/MyDrive/ML-Ware/test_result.csv' , index = False)"
      ],
      "metadata": {
        "id": "9-gf_8WPv5vL"
      },
      "execution_count": 20,
      "outputs": []
    },
    {
      "cell_type": "code",
      "source": [
        "# model implemented by \n",
        "# MSD :\n",
        "# Mayank Singh\n",
        "# Suhani Agrawal\n",
        "# Devanshu Agrawal"
      ],
      "metadata": {
        "id": "oXF1rWRev5x1"
      },
      "execution_count": null,
      "outputs": []
    }
  ]
}